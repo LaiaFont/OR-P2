{
 "cells": [
  {
   "cell_type": "markdown",
   "metadata": {},
   "source": [
    "# Data reduction"
   ]
  },
  {
   "cell_type": "markdown",
   "metadata": {},
   "source": [
    "## Imports"
   ]
  },
  {
   "cell_type": "code",
   "execution_count": 1,
   "metadata": {},
   "outputs": [],
   "source": [
    "# %load_ext autoreload\n",
    "# %autoreload 2\n",
    "\n",
    "import os\n",
    "import json\n",
    "import pandas as pd\n",
    "import numpy as np\n",
    "import shutil\n",
    "import subprocess\n"
   ]
  },
  {
   "cell_type": "markdown",
   "metadata": {},
   "source": [
    "## Util functions"
   ]
  },
  {
   "cell_type": "code",
   "execution_count": 2,
   "metadata": {},
   "outputs": [],
   "source": [
    "# Save data to json file\n",
    "def save_json(filepath, data):\n",
    "    \"\"\"Save data to json file\"\"\"\n",
    "    with open(filepath, 'w') as f:\n",
    "        json.dump(data, f)\n",
    "\n",
    "\n",
    "def get_dir_size(dir_path):\n",
    "    \"\"\"Get directory size\"\"\"\n",
    "    return subprocess.check_output(['du','-sh', dir_path]).split()[0].decode('utf-8')\n",
    "\n",
    "\n",
    "def reduce_data(json_file, img_dir, new_img_dir, new_json_file, n_choice=1000):\n",
    "    \"\"\"Reduce data to N images and save to new json file and folder\"\"\"\n",
    "\n",
    "    print(f\"Reducing data to {n_choice} images...\")\n",
    "    print(f\"Original Image-dir size: {get_dir_size(img_dir)} ({img_dir})\")\n",
    "    \n",
    "    # Load json file\n",
    "    # data.keys() => dict_keys(['annotations', 'images', 'info', 'licenses', 'categories', 'attributes'])\n",
    "    print(f\"Original JSON file size: {os.path.getsize(json_file)/(1024**2):.2f}MB ({json_file})\")\n",
    "    with open(json_file) as json_data:\n",
    "        data = json.load(json_data)\n",
    "\n",
    "    # Get image/annotations data and remove unnecessary columns and parse to DataFrame\n",
    "    df_annots = pd.DataFrame(data['annotations'])\n",
    "    df_images = pd.DataFrame(data['images'])[['id', 'width', 'height', 'file_name']]\n",
    "\n",
    "    # Get unique image and category IDs\n",
    "    unique_imgs = np.unique(df_images.id)\n",
    "    # unique_cats = np.unique(df_annots.category_id)\n",
    "\n",
    "    # Randomly select N images\n",
    "    img_choice = np.random.choice(unique_imgs, n_choice, replace=False)\n",
    "\n",
    "    # Filter data\n",
    "    df_annots_new = df_annots[df_annots.image_id.isin(img_choice)]\n",
    "    df_images_new = df_images[df_images.id.isin(img_choice)]\n",
    "\n",
    "    # Create new data dictionary\n",
    "    new_data = {}\n",
    "    new_data[\"annotations\"] = df_annots_new.to_dict(orient='records')\n",
    "    new_data[\"images\"] = df_images_new.to_dict(orient='records')\n",
    "    new_data[\"categories\"] = data[\"categories\"]\n",
    "\n",
    "    # Copy images to new folder\n",
    "    os.makedirs(new_img_dir, exist_ok=True)\n",
    "    print(\"Copying images to new folder...\")\n",
    "    for i, row in df_images_new.iterrows():\n",
    "        \n",
    "        # Get image name and old/new paths\n",
    "        img_name = row.file_name\n",
    "        img_path = os.path.join(img_dir, img_name)\n",
    "        new_img_path = os.path.join(new_img_dir, img_name)\n",
    "        \n",
    "        # Copy image to new folder\n",
    "        shutil.copyfile(img_path, new_img_path)\n",
    "\n",
    "    print(f\"New Image-dir size: {get_dir_size(new_img_dir)} ({new_img_dir})\")\n",
    "    \n",
    "    # Save new data to json file\n",
    "    save_json(new_json_file, new_data)\n",
    "    print(f\"New JSON file size: {os.path.getsize(new_json_file)/(1024**2):.2f}MB ({new_json_file})\")\n"
   ]
  },
  {
   "cell_type": "markdown",
   "metadata": {},
   "source": [
    "## Data directories"
   ]
  },
  {
   "cell_type": "code",
   "execution_count": 8,
   "metadata": {},
   "outputs": [
    {
     "name": "stdout",
     "output_type": "stream",
     "text": [
      "Train images: 45623\n",
      "Test Images: 3200\n",
      "Train images size: 3.3G\n",
      "Test images size: 236M\n",
      "Train JSON size: 517.08M\n",
      "Test JSON Size: 13.86M\n"
     ]
    }
   ],
   "source": [
    "DATA_DIR = \"_data/\"\n",
    "\n",
    "# Data Directories\n",
    "fashion_dir = os.path.join(DATA_DIR, \"fashionpedia/\")\n",
    "annotations_dir = os.path.join(fashion_dir, \"ann_dir/\")\n",
    "images_dir = os.path.join(fashion_dir, \"img_dir/\")\n",
    "img_train_dir = os.path.join(images_dir, \"train/\")\n",
    "img_test_dir = os.path.join(images_dir, \"val/\")\n",
    "\n",
    "# JSON Files\n",
    "train_file = os.path.join(annotations_dir, \"instances_attributes_train2020.json\")\n",
    "test_file = os.path.join(annotations_dir, \"instances_attributes_val2020.json\")\n",
    "\n",
    "# Show directory info\n",
    "print(f\"Train images: {len(os.listdir(img_train_dir))}\")\n",
    "print(f\"Test Images: {len(os.listdir(img_test_dir))}\")\n",
    "print(f\"Train images size: {get_dir_size(img_train_dir)}\")\n",
    "print(f\"Test images size: {get_dir_size(img_test_dir)}\")\n",
    "print(f\"Train JSON size: {os.path.getsize(train_file)/(1024**2):.2f}M\")\n",
    "print(f\"Test JSON Size: {os.path.getsize(test_file)/(1024**2):.2f}M\")"
   ]
  },
  {
   "cell_type": "markdown",
   "metadata": {},
   "source": [
    "## Create new smaller dataset"
   ]
  },
  {
   "cell_type": "code",
   "execution_count": 9,
   "metadata": {},
   "outputs": [
    {
     "name": "stdout",
     "output_type": "stream",
     "text": [
      "Reducing data to 1000 images...\n",
      "Original Image-dir size: 3.3G (_data/fashionpedia/img_dir/train/)\n",
      "Original JSON file size: 517.08MB (_data/fashionpedia/ann_dir/instances_attributes_train2020.json)\n",
      "Copying images to new folder...\n",
      "New Image-dir size: 74M (small_data/)\n",
      "New JSON file size: 4.33MB (small_data/train_small.json)\n"
     ]
    }
   ],
   "source": [
    "n_choice = 1000\n",
    "json_file = train_file\n",
    "img_dir = img_train_dir\n",
    "new_img_dir = 'small_data/'\n",
    "new_json_file = new_img_dir + 'train_small.json'\n",
    "\n",
    "reduce_data(json_file, img_dir, new_img_dir, new_json_file, n_choice)\n"
   ]
  },
  {
   "cell_type": "code",
   "execution_count": 10,
   "metadata": {},
   "outputs": [
    {
     "name": "stderr",
     "output_type": "stream",
     "text": [
      "\"open\" no se reconoce como un comando interno o externo,\n",
      "programa o archivo por lotes ejecutable.\n"
     ]
    }
   ],
   "source": [
    "!open $new_img_dir"
   ]
  }
 ],
 "metadata": {
  "kernelspec": {
   "display_name": "venv-cv-cnn",
   "language": "python",
   "name": "python3"
  },
  "language_info": {
   "codemirror_mode": {
    "name": "ipython",
    "version": 3
   },
   "file_extension": ".py",
   "mimetype": "text/x-python",
   "name": "python",
   "nbconvert_exporter": "python",
   "pygments_lexer": "ipython3",
   "version": "3.8.19"
  }
 },
 "nbformat": 4,
 "nbformat_minor": 2
}
