{
 "cells": [
  {
   "cell_type": "code",
   "execution_count": 1,
   "metadata": {},
   "outputs": [
    {
     "name": "stdout",
     "output_type": "stream",
     "text": [
      "PyTorch version:  2.0.0\n",
      "MMSEG version:  1.2.2\n"
     ]
    }
   ],
   "source": [
    "import torch\n",
    "import mmseg\n",
    "\n",
    "print(\"PyTorch version: \", torch.__version__)\n",
    "print(\"MMSEG version: \", mmseg.__version__)"
   ]
  },
  {
   "cell_type": "code",
   "execution_count": 2,
   "metadata": {},
   "outputs": [
    {
     "name": "stdout",
     "output_type": "stream",
     "text": [
      "Using device: cuda\n"
     ]
    }
   ],
   "source": [
    "device = torch.device(\"cuda\" if torch.cuda.is_available() else \"cpu\")\n",
    "print(f\"Using device: {device}\")"
   ]
  },
  {
   "cell_type": "code",
   "execution_count": 4,
   "metadata": {},
   "outputs": [],
   "source": [
    "import os\n",
    "os.environ[\"KMP_DUPLICATE_LIB_OK\"]=\"TRUE\""
   ]
  },
  {
   "cell_type": "code",
   "execution_count": 9,
   "metadata": {},
   "outputs": [
    {
     "name": "stdout",
     "output_type": "stream",
     "text": [
      "Loads checkpoint by local backend from path: F:\\AI_LAIA_STUFF\\mmsegmentation\\pspnet_r50-d8_512x1024_40k_cityscapes_20200605_003338-2966598c.pth\n"
     ]
    },
    {
     "data": {
      "text/plain": [
       "array([[[ 87,  94,  87],\n",
       "        [ 69,  80,  74],\n",
       "        [ 94,  99,  99],\n",
       "        ...,\n",
       "        [ 86,  90,  80],\n",
       "        [ 88,  91,  81],\n",
       "        [ 86,  90,  80]],\n",
       "\n",
       "       [[ 89,  96,  88],\n",
       "        [ 73,  83,  76],\n",
       "        [ 94,  99,  99],\n",
       "        ...,\n",
       "        [ 86,  90,  80],\n",
       "        [ 88,  90,  79],\n",
       "        [ 86,  90,  80]],\n",
       "\n",
       "       [[ 87,  94,  87],\n",
       "        [ 73,  83,  76],\n",
       "        [ 94,  99,  99],\n",
       "        ...,\n",
       "        [ 86,  90,  80],\n",
       "        [ 86,  88,  78],\n",
       "        [ 86,  90,  80]],\n",
       "\n",
       "       ...,\n",
       "\n",
       "       [[ 88,  63,  91],\n",
       "        [ 88,  63,  91],\n",
       "        [ 88,  61,  90],\n",
       "        ...,\n",
       "        [102,  77, 102],\n",
       "        [100,  76, 101],\n",
       "        [102,  77, 102]],\n",
       "\n",
       "       [[ 88,  61,  90],\n",
       "        [ 88,  63,  91],\n",
       "        [ 86,  61,  89],\n",
       "        ...,\n",
       "        [ 99,  73, 100],\n",
       "        [100,  74, 100],\n",
       "        [100,  74, 101]],\n",
       "\n",
       "       [[ 88,  61,  90],\n",
       "        [ 88,  63,  91],\n",
       "        [ 86,  61,  89],\n",
       "        ...,\n",
       "        [ 90,  60,  88],\n",
       "        [ 89,  62,  89],\n",
       "        [ 92,  65,  92]]], dtype=uint8)"
      ]
     },
     "execution_count": 9,
     "metadata": {},
     "output_type": "execute_result"
    }
   ],
   "source": [
    "from mmseg.apis import inference_model, init_model, show_result_pyplot\n",
    "import mmcv\n",
    "\n",
    "config_file = 'F:\\AI_LAIA_STUFF\\mmsegmentation\\pspnet_r50-d8_4xb2-40k_cityscapes-512x1024.py'\n",
    "checkpoint_file = 'F:\\AI_LAIA_STUFF\\mmsegmentation\\pspnet_r50-d8_512x1024_40k_cityscapes_20200605_003338-2966598c.pth'\n",
    "\n",
    "# build the model from a config file and a checkpoint file\n",
    "model = init_model(config_file, checkpoint_file, device='cuda:0')\n",
    "\n",
    "# test a single image and show the results\n",
    "img = 'F:\\AI_LAIA_STUFF\\mmsegmentation\\demo\\demo.png'  # or img = mmcv.imread(img), which will only load it once\n",
    "result = inference_model(model, img)\n",
    "# visualize the results in a new window\n",
    "show_result_pyplot(model, img, result, show=True)\n",
    "# or save the visualization results to image files\n",
    "# you can change the opacity of the painted segmentation map in (0, 1].\n",
    "show_result_pyplot(model, img, result, show=True, out_file='result.jpg', opacity=0.5)\n",
    "# test a video and show the results\n",
    "# video = mmcv.VideoReader(\"F:/AI_LAIA_STUFF/mmsegmentation/video.mp4\")\n",
    "# for frame in video:\n",
    "#   result = inference_model(model, frame)\n",
    "#   show_result_pyplot(model, frame, result, wait_time=1)"
   ]
  },
  {
   "cell_type": "code",
   "execution_count": 19,
   "metadata": {},
   "outputs": [
    {
     "name": "stdout",
     "output_type": "stream",
     "text": [
      "{'batch_size': 4, 'num_workers': 4, 'persistent_workers': True, 'sampler': {'type': 'InfiniteSampler', 'shuffle': True}, 'dataset': {'type': 'ADE20KDataset', 'data_root': 'data/ade/ADEChallengeData2016', 'data_prefix': {'img_path': 'images/training', 'seg_map_path': 'annotations/training'}, 'pipeline': [{'type': 'LoadImageFromFile'}, {'type': 'LoadAnnotations', 'reduce_zero_label': True}, {'type': 'RandomResize', 'scale': (2048, 512), 'ratio_range': (0.5, 2.0), 'keep_ratio': True}, {'type': 'RandomCrop', 'crop_size': (512, 512), 'cat_max_ratio': 0.75}, {'type': 'RandomFlip', 'prob': 0.5}, {'type': 'PhotoMetricDistortion'}, {'type': 'PackSegInputs'}]}}\n"
     ]
    }
   ],
   "source": [
    "from mmengine.config import Config\n",
    "\n",
    "cfg = Config.fromfile('F:/AI_LAIA_STUFF/mmsegmentation/configs/resnest/resnest_s101-d8_fcn_4xb4-160k_ade20k-512x512.py')\n",
    "print(cfg.train_dataloader)"
   ]
  }
 ],
 "metadata": {
  "kernelspec": {
   "display_name": "openmmlab",
   "language": "python",
   "name": "python3"
  },
  "language_info": {
   "codemirror_mode": {
    "name": "ipython",
    "version": 3
   },
   "file_extension": ".py",
   "mimetype": "text/x-python",
   "name": "python",
   "nbconvert_exporter": "python",
   "pygments_lexer": "ipython3",
   "version": "3.8.19"
  }
 },
 "nbformat": 4,
 "nbformat_minor": 2
}
